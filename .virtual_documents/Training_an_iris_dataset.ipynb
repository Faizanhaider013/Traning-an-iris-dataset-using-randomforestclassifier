from sklearn.ensemble import RandomForestClassifier




import pandas as pd


data=pd.read_excel("iris-train.xlsx")



data.head()


x=data.iloc[:,:-1]
y=data.iloc[:,-1]


x


model=RandomForestClassifier()


model.fit(x,y)


predictions=model.predict([[4.5,2.3,1.3,0.3]])


predictions



